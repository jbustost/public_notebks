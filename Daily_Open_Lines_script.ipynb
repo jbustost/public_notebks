{
 "cells": [
  {
   "cell_type": "markdown",
   "id": "0b8ecdfa",
   "metadata": {},
   "source": [
    "# Choose and process a file in Python test script\n",
    "<p>This Jupyter Notebook file was created to help the user find and process the Open Lines daily report from a local drive using Jupyter Lab.</p>\n",
    "    \n",
    "### Loading file Instructions:\n",
    "\n",
    "1. Click on the folder image on the extreme left. \n",
    "2. Click on upload file arrow once the menu is open.\n",
    "3. Select the file and click on OK.\n",
    "4. Wait for the file to load.\n",
    "\n",
    "### Start with the cell below\n",
    "1. Press **Shift+Enter** to run the cell.\n",
    "2. Click on the **Select** button\n",
    "3. Click on the file you want to process\n",
    "4. Click on **Select** again."
   ]
  },
  {
   "cell_type": "code",
   "execution_count": 1,
   "id": "1a7272ad",
   "metadata": {
    "deletable": false,
    "editable": false
   },
   "outputs": [
    {
     "data": {
      "application/vnd.jupyter.widget-view+json": {
       "model_id": "91adc3e99df5455f9ad008b971c122f7",
       "version_major": 2,
       "version_minor": 0
      },
      "text/plain": [
       "FileChooser(path='C:\\Users\\jbustos\\Documents\\Python Scripts\\Scheduling Dashboard\\sources\\done', filename='', t…"
      ]
     },
     "metadata": {},
     "output_type": "display_data"
    }
   ],
   "source": [
    "# Necessary libraries\n",
    "import pandas as pd # I will need a dataframe to hold the data from the file\n",
    "import numpy as np # I will need this library calculate days aging\n",
    "import ipywidgets as widget # this library is to create the buttons I will need for the user\n",
    "import datetime\n",
    "from ipyfilechooser import FileChooser\n",
    "\n",
    "# create a widget to find and select the sample file we want to read\n",
    "fc = FileChooser()\n",
    "display(fc)"
   ]
  },
  {
   "cell_type": "markdown",
   "id": "9a9bb297",
   "metadata": {
    "deletable": false,
    "editable": false
   },
   "source": [
    "### After selecting the file\n",
    "1. Press **Shift+Enter** to run the cell.\n",
    "2. Type in the processing date using this format **m/d/yyyy** and press **Enter**\n",
    "3. Click on **Process** or **Cancel**\n",
    "4. Wait for the preview of the file to appear below\n",
    "5. Check if **open_lines_processed.xlsx** is visible on the left of your screen."
   ]
  },
  {
   "cell_type": "code",
   "execution_count": 3,
   "id": "cfab541c",
   "metadata": {
    "deletable": false,
    "editable": false
   },
   "outputs": [
    {
     "name": "stdout",
     "output_type": "stream",
     "text": [
      "Type in the date of the file you are processing: 11/16/2022\n",
      "Ready to process 20221116050932.CHG_REQ_OPEN_LINES.xlsx \n",
      "Click on Process to execute the script or Cancel to stop the process.\n"
     ]
    },
    {
     "data": {
      "application/vnd.jupyter.widget-view+json": {
       "model_id": "24860e728ea84b86951db810c81445fb",
       "version_major": 2,
       "version_minor": 0
      },
      "text/plain": [
       "Output()"
      ]
     },
     "metadata": {},
     "output_type": "display_data"
    }
   ],
   "source": [
    "# Print the file name and the next instructions\n",
    "spath = fc.selected_path\n",
    "fname = fc.selected_filename\n",
    "open_lines = widget.Output()\n",
    "\n",
    "# create the variable that will change the field names the source file.\n",
    "fieldnames = ['chgReqIDx','so', 'ln', 'hl', 'material', 'descrip', 'plant', 'itemCat', 'schReqOwnr', 'mfgReqOwnr', 'customer', \n",
    "               'delvPri', 'createD', 'createT', 'complD', 'complT', 'chgReqCreateD', 'chgReqCreateT', 'chgReqCmplD', \n",
    "               'chgReqCmplT', 'createdBy', 'ofcRep', 'chgCurrMAD','soCurrMAD', 'reqMAD', 'apprMAD', 'chgCurrDelvD', \n",
    "               'reqDelvDate', 'apprDelvDate', 'currQty', 'urgent', 'escalation', 'inventoryM', 'engQuote', 'noAck',\n",
    "               'invCheck', 'ownership', 'oDlrReqDelvD', 'orderRsn']\n",
    "\n",
    "# fill all holidays in standard python format yyyy-mm-dd\n",
    "holidayx = ['2022-01-17','2022-05-30','2022-07-04','2022-09-05','2022-11-24','2022-11-25','2022-12-26',\n",
    "            '2023-01-02','2023-01-16']\n",
    "\n",
    "# ask the user for the date of the file we are processing\n",
    "prcdate = input('Type in the date of the file you are processing: ')\n",
    "prcdate = datetime.datetime.strptime(prcdate,'%m/%d/%Y')\n",
    "\n",
    "print('Ready to process', fname,'\\nClick on Process to execute the script or Cancel to stop the process.')\n",
    "\n",
    "# create the functions to be called for each button\n",
    "def btn_cancel(x):\n",
    "    print('Process was canceled by user.',fname,'was not processed')\n",
    "\n",
    "def btn_process(arg):\n",
    "    print('Reading file from',fc.selected)\n",
    "    \n",
    "    df = pd.read_excel(r'' + fc.selected, keep_default_na = False)\n",
    "    print('File has been read. Starting to process')\n",
    "    \n",
    "    df.columns = fieldnames\n",
    "    \n",
    "    fsize = len(df)\n",
    "    print('File has', fsize, 'rows before filtering.')\n",
    "    df = df.loc[df['ownership'].isin(['S','M'])]\n",
    "    fsize = len(df)\n",
    "    print('File has', fsize, 'rows after filter was applied')\n",
    "    \n",
    "    # initiate the progress bar\n",
    "    progress_bar = widget.IntProgress(min = 0, max = fsize, description = 'PROGRESS') \n",
    "    display(progress_bar) # display the bar\n",
    "    \n",
    "    for x, row in df.iterrows():\n",
    "        # clear the variables that we are going to use\n",
    "        owner = '' # Scheduling Owner\n",
    "        rqdlv = '' # requested delivery date\n",
    "        crdlv = '' # current delivery date\n",
    "        apdlv = '' # approved delivery datecrtDt = '' # create date\n",
    "    \n",
    "        apmad = ''\n",
    "        dayx = ''\n",
    "        wkds = ''\n",
    "        wkns = ''\n",
    "        networkingdays = ''\n",
    "        # assign the values to the variables\n",
    "        owner = df.loc[x,'schReqOwnr']\n",
    "    \n",
    "        crtDt = datetime.datetime.strptime(df.loc[x,'createD'],'%m/%d/%Y') #m/%d/%Y, %Y%m%d\n",
    "    \n",
    "        if df.loc[x,'reqDelvDate'] != '':\n",
    "            rqdlv = datetime.datetime.strptime(df.loc[x,'reqDelvDate'],'%m/%d/%Y')\n",
    "        else:\n",
    "            rqdlv= datetime.datetime.today()\n",
    "    \n",
    "        if df.loc[x,'chgCurrDelvD'] != '':\n",
    "            crdlv = datetime.datetime.strptime(df.loc[x,'chgCurrDelvD'],'%m/%d/%Y')\n",
    "        else:\n",
    "            crdlv = datetime.datetime(2100, 1, 1)\n",
    "    \n",
    "        if df.loc[x,'apprDelvDate'] != '':\n",
    "            apdlv = datetime.datetime.strptime(df.loc[x,'apprDelvDate'],'%m/%d/%Y')\n",
    "        else:\n",
    "            apdlv = datetime.datetime(2100, 1, 1)\n",
    "    \n",
    "        if df.loc[x,'apprMAD'] != '':\n",
    "            apmad = datetime.datetime.strptime(df.loc[x,'apprMAD'],'%m/%d/%Y')\n",
    "        else:\n",
    "            apmad = datetime.datetime(2100, 1, 1)\n",
    "    \n",
    "        # determine if the request has been claimed or not by a Scheduling Coordinator\n",
    "        df.at[x,'ownerCat'] = 'unclaimed' if owner == '' else 'claimed'\n",
    "    \n",
    "        # determine if the request is a move up or a move out\n",
    "        df.at[x,'orderCat'] = 'move up' if rqdlv <= crdlv else 'move out'\n",
    "    \n",
    "        #calculate aging days using numpy\n",
    "        networkingdays = np.busday_count(crtDt.date(), prcdate.date(), holidays = holidayx)\n",
    "        df.at[x,'agingDays'] = int(networkingdays)\n",
    "    \n",
    "        #material impacted\n",
    "        df['matImpacted'] = 'False'\n",
    "    \n",
    "        # determine if the request is a response or an open item\n",
    "        df.at[x,'respOpen'] = 'responses' if apdlv != datetime.datetime(2100, 1, 1) else 'open items'\n",
    "        progress_bar.value += 1\n",
    "    \n",
    "    # delete the entire change request id column, we don't need it.\n",
    "    df.pop('chgReqIDx')\n",
    "\n",
    "    print('Saving processed XL file as',spath + '/open_lines_processed.xlsx')\n",
    "    df.to_excel(spath + '/open_lines_processed.xlsx', sheet_name = 'data', index = False)\n",
    "    print('Processing is done.')\n",
    "    \n",
    "    with open_lines:\n",
    "        display(df)\n",
    "\n",
    "#create the buttons to run or cancel\n",
    "prcs = widget.Button(description = 'Process', style = dict(button_color = 'lightgreen', font_weight = 'bold'))\n",
    "stop = widget.Button(description = 'Cancel', style = dict(button_color = 'pink', font_weight = 'bold'))\n",
    "\n",
    "prcs.on_click(btn_process)\n",
    "stop.on_click(btn_cancel)\n",
    "\n",
    "with open_lines:\n",
    "    display(widget.HBox((prcs,stop)))\n",
    "    \n",
    "open_lines"
   ]
  },
  {
   "cell_type": "markdown",
   "id": "4eee2b1f",
   "metadata": {
    "deletable": false,
    "editable": false
   },
   "source": [
    "### Final step:\n",
    "1. Right-click on **open_lines_processed.xlsx** and download it to your device."
   ]
  }
 ],
 "metadata": {
  "celltoolbar": "Edit Metadata",
  "kernelspec": {
   "display_name": "Python 3 (ipykernel)",
   "language": "python",
   "name": "python3"
  },
  "language_info": {
   "codemirror_mode": {
    "name": "ipython",
    "version": 3
   },
   "file_extension": ".py",
   "mimetype": "text/x-python",
   "name": "python",
   "nbconvert_exporter": "python",
   "pygments_lexer": "ipython3",
   "version": "3.8.13"
  }
 },
 "nbformat": 4,
 "nbformat_minor": 5
}

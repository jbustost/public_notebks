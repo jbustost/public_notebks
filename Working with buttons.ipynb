{
 "cells": [
  {
   "cell_type": "markdown",
   "id": "67fac8f7",
   "metadata": {
    "deletable": false,
    "editable": false
   },
   "source": [
    "# How to create buttons in Jupyter Notebooks\n",
    "These 2 exercises were taken from this article at <a href='https://www.geeksforgeeks.org/how-to-create-buttons-in-jupyter/'>geeksforgeeks.org</a>. The following 2 exercises are simple ways to show a button on Jupyter Notebooks."
   ]
  },
  {
   "cell_type": "code",
   "execution_count": 3,
   "id": "a8041649",
   "metadata": {
    "deletable": false,
    "editable": false
   },
   "outputs": [
    {
     "data": {
      "application/vnd.jupyter.widget-view+json": {
       "model_id": "f7715c1ff32946b7949ecbcd36902909",
       "version_major": 2,
       "version_minor": 0
      },
      "text/plain": [
       "Button(description='Click Me!', style=ButtonStyle())"
      ]
     },
     "metadata": {},
     "output_type": "display_data"
    }
   ],
   "source": [
    "# @hidden_cell\n",
    "# import module\n",
    "import ipywidgets as widgets\n",
    "# create the button\n",
    "widgets.Button(description = 'Click Me!')"
   ]
  },
  {
   "cell_type": "markdown",
   "id": "219a0827",
   "metadata": {
    "deletable": false,
    "editable": false
   },
   "source": [
    "<p>In the exercise above, the button is <b>ONLY</b> displayed and does nothing since there is no action attached to it nor output script tied to the button.</p>\n",
    "<p>In this exercise below, I will create an interactive button that randomly selects a language from a list of given languages. Here is the code from geeksforgeeks.org</p>"
   ]
  },
  {
   "cell_type": "code",
   "execution_count": 2,
   "id": "bbdd974f",
   "metadata": {
    "deletable": false,
    "editable": false
   },
   "outputs": [
    {
     "data": {
      "application/vnd.jupyter.widget-view+json": {
       "model_id": "0f7ad483df5a48b7945346a7a455c85c",
       "version_major": 2,
       "version_minor": 0
      },
      "text/plain": [
       "interactive(children=(Button(description='Run Interact', style=ButtonStyle()), Output()), _dom_classes=('widge…"
      ]
     },
     "metadata": {},
     "output_type": "display_data"
    },
    {
     "data": {
      "text/plain": [
       "<function __main__.lang()>"
      ]
     },
     "execution_count": 2,
     "metadata": {},
     "output_type": "execute_result"
    }
   ],
   "source": [
    "# import the ipywidgets module\n",
    "import ipywidgets as widgets\n",
    "from ipywidgets import interact, interact_manual, fixed\n",
    "\n",
    "# import the choice function from random module\n",
    "from random import choice\n",
    "\n",
    "# create the function that will be tied to the button\n",
    "def lang():\n",
    "    langToSel = ['English','Deustche','Espaniol','Italiano', 'Chinese','French']\n",
    "    print(choice(langToSel))\n",
    "    \n",
    "interact_manual(lang)"
   ]
  },
  {
   "cell_type": "markdown",
   "id": "59c50b64",
   "metadata": {
    "deletable": false,
    "editable": false
   },
   "source": [
    "For my next step, I will try to upload and run this file in GitHub. will it work?"
   ]
  }
 ],
 "metadata": {
  "celltoolbar": "Edit Metadata",
  "deletable": false,
  "editable": false,
  "kernelspec": {
   "display_name": "Python 3 (ipykernel)",
   "language": "python",
   "name": "python3"
  },
  "language_info": {
   "codemirror_mode": {
    "name": "ipython",
    "version": 3
   },
   "file_extension": ".py",
   "mimetype": "text/x-python",
   "name": "python",
   "nbconvert_exporter": "python",
   "pygments_lexer": "ipython3",
   "version": "3.8.13"
  }
 },
 "nbformat": 4,
 "nbformat_minor": 5
}

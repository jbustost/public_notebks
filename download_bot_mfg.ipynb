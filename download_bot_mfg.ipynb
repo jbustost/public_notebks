{
 "cells": [
  {
   "cell_type": "markdown",
   "id": "1694de0c",
   "metadata": {},
   "source": [
    "# Download the BOT MFG requests from Scheduling Dashboard\n",
    "To execute this script follow these steps:\n",
    "1. Login to SAP System P01\n",
    "2. Select the cell below and press keyboard keys **Shift+Enter** to load and prep\n",
    "3. Once you executed step 2, use the same keyboard keys to execute **sapMFG_BotLines()**"
   ]
  },
  {
   "cell_type": "code",
   "execution_count": 1,
   "id": "89fa68b2",
   "metadata": {},
   "outputs": [],
   "source": [
    "# these lines of code will connect to an SAP GUI that is already running and logged into.\n",
    "#import the libraries we will need for this to happen\n",
    "import win32com.client\n",
    "import sys\n",
    "import subprocess\n",
    "import time\n",
    "from ipyfilechooser import FileChooser\n",
    "\n",
    "# setting up the file chooser to get the correct\n",
    "fc=FileChooser()\n",
    "display(fc)\n",
    "# identify the path were the resulting files will be placed.\n",
    "spath = fc.selected_path\n",
    "\n",
    "# define the function and what\n",
    "dash_tab = 'wnd[0]/usr/subSUB1:ZOMU0057_SCHED_CHG_DASHBOARD:0101/tabsTAB_CTL_0101/tabpITEMS_MFG'\n",
    "dash_buttons = 'wnd[0]/usr/subSUB1:ZOMU0057_SCHED_CHG_DASHBOARD:0101/tabsTAB_CTL_0101/tabpITEMS_MFG/ssubSUB2:ZOMU0057_SCHED_CHG_DASHBOARD:0201/cntlS_CTRL201/shellcont/shell'\n",
    "\n",
    "def sapMFG_BotLines():\n",
    "    \n",
    "    try:\n",
    "        sapG = win32com.client.GetObject(\"SAPGUI\")\n",
    "        if not type(sapG) == win32com.client.CDispatch:\n",
    "            return\n",
    "        appX = sapG.GetScriptingEngine\n",
    "        if not type(appX) == win32com.client.CDispatch:\n",
    "            sapG = None\n",
    "            return\n",
    "        conX = appX.Children(0)\n",
    "        if not type(conX) == win32com.client.CDispatch:\n",
    "            appX = None\n",
    "            sapG = None\n",
    "            return\n",
    "        ssn = conX.Children(0)\n",
    "        if not type(ssn) == win32com.client.CDispatch:\n",
    "            conX = None\n",
    "            appX = None\n",
    "            sapG = None\n",
    "            return\n",
    "        print('Successful connection to SAP GUI','\\nOpening transaction ZSD_CHG_SCHED')\n",
    "    \n",
    "        # once connected we can move to a certain transaction\n",
    "        ssn.findById(\"wnd[0]/tbar[0]/okcd\").setfocus\n",
    "        ssn.findById(\"wnd[0]/tbar[0]/okcd\").text = '/nzsd_chg_sched'\n",
    "        ssn.findById('wnd[0]').sendVKey(0)\n",
    "        \n",
    "        # fill the request owner field, Layout field and press the execute button\n",
    "        ssn.findById('wnd[0]/usr/txtS_OWN-LOW').text = '*'\n",
    "        ssn.findById('wnd[0]/usr/ctxtP_VAR').text = '/OPEN TDL NW'\n",
    "        ssn.findById('wnd[0]').sendVKey(8)\n",
    "        \n",
    "        print('Loading Scheduling Dashboard Open Lines')\n",
    "        \n",
    "        # select the MFG tab once Scheduling Dashboard has loaded\n",
    "        ssn.findById(dash_tab).select()\n",
    "        ssn.findById(dash_buttons).pressToolbarButton(\"&MB_FILTER\")\n",
    "        \n",
    "        ssn.findById(\"wnd[1]/usr/subSUB_DYN0500:SAPLSKBH:0600/cntlCONTAINER1_FILT/shellcont/shell\").currentCellRow = 4\n",
    "        ssn.findById(\"wnd[1]/usr/subSUB_DYN0500:SAPLSKBH:0600/cntlCONTAINER1_FILT/shellcont/shell\").selectedRows = '4'\n",
    "        ssn.findById(\"wnd[1]/usr/subSUB_DYN0500:SAPLSKBH:0600/btnAPP_WL_SING\").press()\n",
    "        ssn.findById(\"wnd[1]/usr/subSUB_DYN0500:SAPLSKBH:0600/btn600_BUTTON\").press()\n",
    "        \n",
    "        ssn.findById(\"wnd[2]/usr/ssub%_SUBSCREEN_FREESEL:SAPLSSEL:1105/ctxt%%DYN001-LOW\").text = 'RPAPGN01'\n",
    "        ssn.findById(\"wnd[2]/tbar[0]/btn[0]\").press()\n",
    "        \n",
    "        ssn.findById(dash_buttons).pressToolbarButton(\"&MB_EXPORT\")\n",
    "        ssn.findById(dash_buttons).selectContextMenuItem(\"&XXL\")\n",
    "        \n",
    "        ssn.findById('wnd[1]/usr/ctxtDY_PATH').text = spath\n",
    "        ssn.findById(\"wnd[1]/usr/ctxtDY_FILENAME\").text = 'mfgbot_lines.XLSX'\n",
    "        ssn.findById('wnd[1]/tbar[0]/btn[0]').press()\n",
    "        \n",
    "        print('mfgbot_lines.XLSX file has been downloaded. \\nCheck your file manager')\n",
    "        \n",
    "    except:\n",
    "        print(sys.exc_info()[0])\n",
    "        \n",
    "    finally:\n",
    "        ssn = None\n",
    "        conX = None\n",
    "        appX = None\n",
    "        sapG = None"
   ]
  },
  {
   "cell_type": "code",
   "execution_count": 2,
   "id": "a8816ff9",
   "metadata": {},
   "outputs": [
    {
     "name": "stdout",
     "output_type": "stream",
     "text": [
      "Successful connection to SAP GUI \n",
      "Opening transaction ZSD_CHG_SCHED\n",
      "Loading Scheduling Dashboard Open Lines\n",
      "mfgbot_lines.XLSX file has been downloaded. \n",
      "Check your file manager\n"
     ]
    }
   ],
   "source": [
    "sapMFG_BotLines()"
   ]
  },
  {
   "cell_type": "code",
   "execution_count": null,
   "id": "0ba32fe6",
   "metadata": {},
   "outputs": [],
   "source": []
  }
 ],
 "metadata": {
  "kernelspec": {
   "display_name": "Python 3 (ipykernel)",
   "language": "python",
   "name": "python3"
  },
  "language_info": {
   "codemirror_mode": {
    "name": "ipython",
    "version": 3
   },
   "file_extension": ".py",
   "mimetype": "text/x-python",
   "name": "python",
   "nbconvert_exporter": "python",
   "pygments_lexer": "ipython3",
   "version": "3.8.13"
  }
 },
 "nbformat": 4,
 "nbformat_minor": 5
}
